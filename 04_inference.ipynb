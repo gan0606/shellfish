{
 "cells": [
  {
   "cell_type": "code",
   "execution_count": 1,
   "metadata": {},
   "outputs": [],
   "source": [
    "import os\n",
    "import cv2\n",
    "import matplotlib.pyplot as plt\n",
    "from IPython.display import Image\n",
    "from ultralytics import YOLO"
   ]
  },
  {
   "cell_type": "markdown",
   "metadata": {},
   "source": [
    "## テストデータの推論"
   ]
  },
  {
   "cell_type": "code",
   "execution_count": 2,
   "metadata": {},
   "outputs": [],
   "source": [
    "# テストデータへのpathのリストを取得\n",
    "data_dir = \"C:/Users/yuuki/Kaggle/object_detection_try/shellfish/after_data/test\"\n",
    "image_paths = [os.path.join(data_dir, 'images', filename) for filename in os.listdir(os.path.join(data_dir, 'images')) if filename.endswith(\".jpg\")]"
   ]
  },
  {
   "cell_type": "code",
   "execution_count": 3,
   "metadata": {},
   "outputs": [],
   "source": [
    "# bestなモデルの読み込み\n",
    "best_model = YOLO(\"runs/detect/train3/weights/best.pt\")"
   ]
  },
  {
   "cell_type": "code",
   "execution_count": 4,
   "metadata": {},
   "outputs": [],
   "source": [
    "# 推論\n",
    "# results = best_model(image_paths)"
   ]
  },
  {
   "cell_type": "code",
   "execution_count": 5,
   "metadata": {},
   "outputs": [],
   "source": [
    "# 下記は空pathなので削除する。なぜ空pathが入るかは不明\n",
    "image_paths.remove(\"C:/Users/yuuki/Kaggle/object_detection_try/shellfish/after_data/test\\\\images\\\\img58.jpg\")"
   ]
  },
  {
   "cell_type": "code",
   "execution_count": 6,
   "metadata": {},
   "outputs": [
    {
     "name": "stdout",
     "output_type": "stream",
     "text": [
      "\n",
      "0: 416x416 1 Crab, 1 Lobster, 15.9ms\n",
      "1: 416x416 1 shellfish, 15.9ms\n",
      "2: 416x416 9 Lobsters, 15.9ms\n",
      "3: 416x416 1 shellfish, 15.9ms\n",
      "4: 416x416 1 Crab, 15.9ms\n",
      "5: 416x416 12 Lobsters, 15.9ms\n",
      "6: 416x416 1 Crab, 15.9ms\n",
      "7: 416x416 1 shellfish, 15.9ms\n",
      "8: 416x416 1 shellfish, 1 Lobster, 15.9ms\n",
      "9: 416x416 1 shellfish, 15.9ms\n",
      "10: 416x416 1 shellfish, 15.9ms\n",
      "11: 416x416 2 shellfishs, 1 Crab, 15.9ms\n",
      "12: 416x416 1 Crab, 2 Lobsters, 15.9ms\n",
      "13: 416x416 1 shellfish, 15.9ms\n",
      "14: 416x416 6 Lobsters, 15.9ms\n",
      "15: 416x416 2 Lobsters, 15.9ms\n",
      "16: 416x416 1 Crab, 15.9ms\n",
      "17: 416x416 1 Crab, 15.9ms\n",
      "18: 416x416 1 Crab, 2 Lobsters, 15.9ms\n",
      "19: 416x416 1 Crab, 15.9ms\n",
      "20: 416x416 1 shellfish, 15.9ms\n",
      "21: 416x416 1 Crab, 15.9ms\n",
      "22: 416x416 1 shellfish, 15.9ms\n",
      "23: 416x416 1 shellfish, 15.9ms\n",
      "24: 416x416 1 shellfish, 1 Crab, 15.9ms\n",
      "25: 416x416 2 Crabs, 15.9ms\n",
      "26: 416x416 4 Lobsters, 15.9ms\n",
      "27: 416x416 (no detections), 15.9ms\n",
      "28: 416x416 (no detections), 15.9ms\n",
      "29: 416x416 2 Lobsters, 15.9ms\n",
      "30: 416x416 2 shellfishs, 1 Crab, 15.9ms\n",
      "31: 416x416 1 Lobster, 15.9ms\n",
      "32: 416x416 1 Crab, 15.9ms\n",
      "33: 416x416 2 shellfishs, 15.9ms\n",
      "34: 416x416 6 Lobsters, 15.9ms\n",
      "35: 416x416 1 Crab, 1 Lobster, 15.9ms\n",
      "36: 416x416 1 Crab, 2 Lobsters, 15.9ms\n",
      "37: 416x416 1 shellfish, 1 Lobster, 15.9ms\n",
      "38: 416x416 1 shellfish, 15.9ms\n",
      "39: 416x416 2 shellfishs, 15.9ms\n",
      "40: 416x416 3 Lobsters, 15.9ms\n",
      "41: 416x416 1 Crab, 15.9ms\n",
      "42: 416x416 5 Lobsters, 15.9ms\n",
      "43: 416x416 1 Crab, 15.9ms\n",
      "44: 416x416 6 Lobsters, 15.9ms\n",
      "45: 416x416 1 Crab, 15.9ms\n",
      "46: 416x416 1 Lobster, 15.9ms\n",
      "47: 416x416 1 shellfish, 1 Crab, 15.9ms\n",
      "48: 416x416 (no detections), 15.9ms\n",
      "49: 416x416 (no detections), 15.9ms\n",
      "50: 416x416 1 Crab, 15.9ms\n",
      "51: 416x416 1 Crab, 15.9ms\n",
      "52: 416x416 1 Crab, 1 Lobster, 15.9ms\n",
      "53: 416x416 2 shellfishs, 15.9ms\n",
      "54: 416x416 3 Lobsters, 15.9ms\n",
      "55: 416x416 1 shellfish, 15.9ms\n",
      "56: 416x416 1 Lobster, 15.9ms\n",
      "57: 416x416 2 Crabs, 15.9ms\n",
      "Speed: 0.7ms preprocess, 15.9ms inference, 15.5ms postprocess per image at shape (1, 3, 416, 416)\n"
     ]
    }
   ],
   "source": [
    "# 推論\n",
    "results = best_model(image_paths)"
   ]
  },
  {
   "cell_type": "code",
   "execution_count": 7,
   "metadata": {},
   "outputs": [],
   "source": [
    "# Visualize the results\n",
    "for i, r in enumerate(results[:5]):\n",
    "    # Plot results image (assuming plot() returns BGR-order NumPy array)\n",
    "    im_bgr = r.plot()\n",
    "\n",
    "    # Convert to RGB for display (if necessary)\n",
    "    # im_rgb = cv2.cvtColor(im_bgr, cv2.COLOR_BGR2RGB)\n",
    "\n",
    "    # Show results (consider environment and preference)\n",
    "    cv2.imshow(f\"Detection {i}\", im_bgr)  # Using OpenCV for consistent display\n",
    "    cv2.waitKey(0)  # Wait for key press to close window\n",
    "    cv2.destroyAllWindows()\n",
    "\n",
    "    # Optionally, save the image (uncomment if desired)\n",
    "    # cv2.imwrite(f\"detection_{i}.jpg\", im_rgb)"
   ]
  },
  {
   "cell_type": "code",
   "execution_count": 9,
   "metadata": {},
   "outputs": [],
   "source": [
    "# テストデータの保存先\n",
    "os.makedirs(\"./inference_test\", exist_ok=True)"
   ]
  },
  {
   "cell_type": "code",
   "execution_count": 11,
   "metadata": {},
   "outputs": [],
   "source": [
    "# 保存\n",
    "for i, r in enumerate(results):\n",
    "    img = r.plot()\n",
    "    cv2.imwrite(f\"./inference_test/detection_{i}.jpg\", img)"
   ]
  },
  {
   "cell_type": "code",
   "execution_count": null,
   "metadata": {},
   "outputs": [],
   "source": []
  },
  {
   "cell_type": "code",
   "execution_count": null,
   "metadata": {},
   "outputs": [],
   "source": []
  }
 ],
 "metadata": {
  "kernelspec": {
   "display_name": "py_310_ultradynatics",
   "language": "python",
   "name": "python3"
  },
  "language_info": {
   "codemirror_mode": {
    "name": "ipython",
    "version": 3
   },
   "file_extension": ".py",
   "mimetype": "text/x-python",
   "name": "python",
   "nbconvert_exporter": "python",
   "pygments_lexer": "ipython3",
   "version": "3.10.14"
  }
 },
 "nbformat": 4,
 "nbformat_minor": 2
}
