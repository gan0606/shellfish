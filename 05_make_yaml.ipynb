{
 "cells": [
  {
   "cell_type": "markdown",
   "metadata": {},
   "source": [
    "## RoboFlowのサイトを確認したところクラス数とcategoryが間違っていたのでyamlファイルを書き直す"
   ]
  },
  {
   "cell_type": "code",
   "execution_count": 1,
   "metadata": {},
   "outputs": [],
   "source": [
    "import yaml"
   ]
  },
  {
   "cell_type": "code",
   "execution_count": 5,
   "metadata": {},
   "outputs": [],
   "source": [
    "# データセット情報\n",
    "dataset_info = {\n",
    "    \"train\": \"C:/Users/yuuki/Kaggle/object_detection_try/shellfish/after_data/train/images\",  # train データセットのサブディレクトリ\n",
    "    \"val\": \"C:/Users/yuuki/Kaggle/object_detection_try/shellfish/after_data/valid/images\",  # val データセットのサブディレクトリ\n",
    "    \"test\": \"C:/Users/yuuki/Kaggle/object_detection_try/shellfish/after_data/test/images\",  # test データセットのサブディレクトリ\n",
    "    \"nc\": 3,  # クラスの数\n",
    "    \"names\": [\"Crab\", \"Lobster\", \"Shrimp\"],  # クラス名\n",
    "    \"roboflow\": {\n",
    "        \"workspace\": \"jacob-solawetz\",  # Roboflow ワークスペース\n",
    "        \"project\": \"shellfish-openimage\",  # Roboflow プロジェクト\n",
    "        \"version\": 1,  # Roboflow バージョン\n",
    "        \"license\": \"CC BY 4.0\",  # Roboflow ライセンス\n",
    "        \"url\": \"https://universe.roboflow.com/jacob-solawetz/shellfish-openimages/dataset/1\"  # Roboflow データセット URL\n",
    "    }\n",
    "}\n",
    "\n",
    "# YAML ファイルへの書き込み\n",
    "with open(\"data_rev1.yaml\", \"w\") as f:\n",
    "    yaml.dump(dataset_info, f, default_flow_style=False)"
   ]
  },
  {
   "cell_type": "code",
   "execution_count": null,
   "metadata": {},
   "outputs": [],
   "source": []
  },
  {
   "cell_type": "code",
   "execution_count": null,
   "metadata": {},
   "outputs": [],
   "source": []
  },
  {
   "cell_type": "code",
   "execution_count": null,
   "metadata": {},
   "outputs": [],
   "source": []
  },
  {
   "cell_type": "code",
   "execution_count": null,
   "metadata": {},
   "outputs": [],
   "source": []
  },
  {
   "cell_type": "code",
   "execution_count": null,
   "metadata": {},
   "outputs": [],
   "source": []
  },
  {
   "cell_type": "code",
   "execution_count": null,
   "metadata": {},
   "outputs": [],
   "source": []
  },
  {
   "cell_type": "code",
   "execution_count": null,
   "metadata": {},
   "outputs": [],
   "source": []
  }
 ],
 "metadata": {
  "kernelspec": {
   "display_name": "py_310_ultradynatics",
   "language": "python",
   "name": "python3"
  },
  "language_info": {
   "codemirror_mode": {
    "name": "ipython",
    "version": 3
   },
   "file_extension": ".py",
   "mimetype": "text/x-python",
   "name": "python",
   "nbconvert_exporter": "python",
   "pygments_lexer": "ipython3",
   "version": "3.10.14"
  }
 },
 "nbformat": 4,
 "nbformat_minor": 2
}
